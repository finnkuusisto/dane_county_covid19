{
 "cells": [
  {
   "cell_type": "code",
   "execution_count": 1,
   "metadata": {},
   "outputs": [],
   "source": [
    "import urllib\n",
    "import json"
   ]
  },
  {
   "cell_type": "code",
   "execution_count": 2,
   "metadata": {},
   "outputs": [],
   "source": [
    "# grab the base data\n",
    "DANE_URL = \"https://opendata.arcgis.com/datasets/b913e9591eae4912b33dc5b4e88646c5_10.geojson?where=GEO%20%3D%20'County'%20AND%20NAME%20%3D%20'Dane'\"\n",
    "response = urllib.request.urlopen(DANE_URL)\n",
    "dane_data = json.loads(response.read())\n",
    "data_elems = dane_data['features']\n",
    "# and pull out important values\n",
    "new_neg = [el['properties']['NEG_NEW'] for el in data_elems]\n",
    "new_pos = [el['properties']['POS_NEW'] for el in data_elems]"
   ]
  },
  {
   "cell_type": "code",
   "execution_count": 3,
   "metadata": {},
   "outputs": [],
   "source": [
    "# now strip off missing data points from the front\n",
    "def first_non_none(vals):\n",
    "    for i in range(len(vals)):\n",
    "        if vals[i] is not None:\n",
    "            return i\n",
    "    return len(vals)\n",
    "\n",
    "# just in case one or the other has more missing samples\n",
    "neg_start = first_non_none(new_neg)\n",
    "pos_start = first_non_none(new_pos)\n",
    "start = max(neg_start, pos_start)\n",
    "# and reduce\n",
    "new_neg = new_neg[start:]\n",
    "new_pos = new_pos[start:]\n",
    "new_tot = [new_neg[i] + new_pos[i] for i in range(len(new_neg))]\n",
    "new_pos_perc = [float(new_pos[i]) / new_tot[i] for i in range(len(new_tot))]"
   ]
  },
  {
   "cell_type": "code",
   "execution_count": 4,
   "metadata": {},
   "outputs": [],
   "source": [
    "# now get some sliding window sums for averaging\n",
    "def sliding_window_sum(vals, window_size):\n",
    "    # check for degenerate case\n",
    "    if len(vals) < window_size:\n",
    "        return [sum(vals)]\n",
    "    # otherwise track each\n",
    "    ret_sums = list()\n",
    "    # get initial sum\n",
    "    curr_sum = sum(vals[:window_size])\n",
    "    ret_sums.append(curr_sum)\n",
    "    # and iterate to the end\n",
    "    i = window_size\n",
    "    while i < len(vals):\n",
    "        # take off the one before the window\n",
    "        curr_sum -= vals[i - window_size]\n",
    "        # and add the new val into the window\n",
    "        curr_sum += vals[i]\n",
    "        ret_sums.append(curr_sum)\n",
    "        i += 1\n",
    "    return ret_sums"
   ]
  },
  {
   "cell_type": "code",
   "execution_count": 5,
   "metadata": {},
   "outputs": [],
   "source": [
    "# get a 7-day sliding average of positive percentages\n",
    "new_tot_7win = sliding_window_sum(new_tot, 7)\n",
    "new_pos_7win = sliding_window_sum(new_pos, 7)\n",
    "new_pos_perc_7win = [float(new_pos_7win[i]) / new_tot_7win[i] for i in range(len(new_tot_7win))]"
   ]
  },
  {
   "cell_type": "code",
   "execution_count": 6,
   "metadata": {},
   "outputs": [],
   "source": [
    "# grab last 8 weeks of real percentages and average\n",
    "pos_perc_8wk = new_pos_perc[-56:]\n",
    "pos_perc_8wk_7win = new_pos_perc_7win[-56:]"
   ]
  },
  {
   "cell_type": "code",
   "execution_count": 7,
   "metadata": {},
   "outputs": [
    {
     "data": {
      "image/png": "[encoded data removed]",
      "text/plain": [
       "<Figure size 432x288 with 1 Axes>"
      ]
     },
     "metadata": {
      "needs_background": "light"
     },
     "output_type": "display_data"
    }
   ],
   "source": [
    "import matplotlib.pyplot as plt\n",
    "# and plot\n",
    "plt.plot(pos_perc_8wk)\n",
    "plt.plot(pos_perc_8wk_7win)\n",
    "plt.xticks([0, 7, 14, 21, 28, 35, 42, 49, 56])\n",
    "plt.yticks([0.0, 0.01, 0.02, 0.03, 0.04, 0.05, 0.06, 0.07, 0.08, 0.09, 0.10])\n",
    "plt.ylim([-0.001, 0.101])\n",
    "plt.grid()\n",
    "plt.show()"
   ]
  },
  {
   "cell_type": "code",
   "execution_count": 8,
   "metadata": {},
   "outputs": [
    {
     "data": {
      "text/plain": [
       "[0.0061162079510703364,\n",
       " 0.0034782608695652175,\n",
       " 0.021739130434782608,\n",
       " 0.029585798816568046,\n",
       " 0.021806853582554516,\n",
       " 0.006211180124223602,\n",
       " 0.007772020725388601,\n",
       " 0.03217821782178218,\n",
       " 0.008438818565400843,\n",
       " 0.010851419031719533,\n",
       " 0.022181146025878003,\n",
       " 0.028616852146263912,\n",
       " 0.0036101083032490976,\n",
       " 0.00821917808219178,\n",
       " 0.030555555555555555,\n",
       " 0.009122807017543859,\n",
       " 0.00819672131147541,\n",
       " 0.004891684136967156,\n",
       " 0.005089058524173028,\n",
       " 0.010568031704095112,\n",
       " 0.020553359683794466,\n",
       " 0.02193419740777667,\n",
       " 0.025787965616045846,\n",
       " 0.02040816326530612,\n",
       " 0.02418379685610641,\n",
       " 0.006180469715698393,\n",
       " 0.023923444976076555,\n",
       " 0.028985507246376812,\n",
       " 0.010401188707280832,\n",
       " 0.008376963350785341,\n",
       " 0.008100147275405008,\n",
       " 0.015521064301552107,\n",
       " 0.041193181818181816,\n",
       " 0.014891179839633447,\n",
       " 0.01,\n",
       " 0.00878972278566599,\n",
       " 0.021164021164021163,\n",
       " 0.01994134897360704,\n",
       " 0.002702702702702703,\n",
       " 0.0423572744014733,\n",
       " 0.03418803418803419,\n",
       " 0.006006006006006006,\n",
       " 0.021505376344086023,\n",
       " 0.015682656826568265,\n",
       " 0.01303680981595092,\n",
       " 0.03615960099750624,\n",
       " 0.09722222222222222,\n",
       " 0.06092124814264487,\n",
       " 0.013371150729335495,\n",
       " 0.04659763313609468,\n",
       " 0.044278606965174126,\n",
       " 0.08931185944363104,\n",
       " 0.0915032679738562,\n",
       " 0.6157894736842106,\n",
       " 0.09142857142857143,\n",
       " 0.07676130389064142]"
      ]
     },
     "execution_count": 8,
     "metadata": {},
     "output_type": "execute_result"
    }
   ],
   "source": [
    "pos_perc_8wk"
   ]
  },
  {
   "cell_type": "code",
   "execution_count": null,
   "metadata": {},
   "outputs": [],
   "source": []
  }
 ],
 "metadata": {
  "kernelspec": {
   "display_name": "Python 3",
   "language": "python",
   "name": "python3"
  },
  "language_info": {
   "codemirror_mode": {
    "name": "ipython",
    "version": 3
   },
   "file_extension": ".py",
   "mimetype": "text/x-python",
   "name": "python",
   "nbconvert_exporter": "python",
   "pygments_lexer": "ipython3",
   "version": "3.8.2"
  }
 },
 "nbformat": 4,
 "nbformat_minor": 4
}
